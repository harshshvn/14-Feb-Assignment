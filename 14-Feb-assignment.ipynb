{
 "cells": [
  {
   "cell_type": "markdown",
   "id": "e434d20d-4e0a-49b3-bc59-cf8c3564b59f",
   "metadata": {},
   "source": [
    "Q1"
   ]
  },
  {
   "cell_type": "markdown",
   "id": "29b78279-0198-4a9f-a6bc-d923990b7740",
   "metadata": {},
   "source": [
    "Multithreading is a threading technique in Python programming to run multiple threads concurrently by rapidly switching between threads with a CPU help (called context switching). Besides, it allows sharing of its data space with the main threads inside a process that share information and communication with other threads easier than individual processes. Multithreading aims to perform multiple tasks simultaneously, which increases performance, speed and improves the rendering of the application.\n",
    "\n",
    "Threading module is used to handle threads in python"
   ]
  },
  {
   "cell_type": "markdown",
   "id": "c79486d4-2754-472e-b0fc-4e8383a8de4a",
   "metadata": {},
   "source": [
    "Q2"
   ]
  },
  {
   "cell_type": "markdown",
   "id": "6b16f07f-d097-4bca-84f9-781beaeae5be",
   "metadata": {},
   "source": [
    " Threading module is used for creating, controlling and managing threads in python.\n",
    " \n",
    " The use of following function are-\n",
    " \n",
    " 1.threading.activeCount() − Returns the number of thread objects that are active.\n",
    " \n",
    " 2.threading.currentThread() − Returns the number of thread objects in the caller's thread control.\n",
    " \n",
    " 3.threading.enumerate() − Returns a list of all thread objects that are currently active.\n",
    " "
   ]
  },
  {
   "cell_type": "markdown",
   "id": "2eb073f9-c431-4a75-a530-89952ac12382",
   "metadata": {},
   "source": [
    "Q3"
   ]
  },
  {
   "cell_type": "markdown",
   "id": "8ded1e71-bdb1-46da-8142-e63f72a36174",
   "metadata": {},
   "source": [
    "1.run()  − The run() method is the entry point for a thread.\n",
    "\n",
    "2.start()  − The start() method starts a thread by calling the run method.\n",
    "\n",
    "3.join()  − The join() waits for threads to terminate.\n",
    "\n",
    "4.isAlive()  − The isAlive() method checks whether a thread is still executing.\n"
   ]
  },
  {
   "cell_type": "markdown",
   "id": "5d9204fe-62d0-4f96-9d2a-5c71bced8bd0",
   "metadata": {},
   "source": [
    "Q4"
   ]
  },
  {
   "cell_type": "code",
   "execution_count": 8,
   "id": "fb725b29-dfe8-4f69-b04e-65ba6ace695f",
   "metadata": {},
   "outputs": [],
   "source": [
    "import threading\n",
    "num_list=[1,2,3,4,5,6,7,8,9]\n",
    "def squares(x):\n",
    "    print(x*x)\n",
    "def cubes(x):\n",
    "     print(x**3)\n",
    "\n",
    "thread1=[threading.Thread(target=squares,args=(i,)) for i in num_list]\n",
    "thread2=[threading.Thread(target=cubes,args=(i,)) for i in num_list]\n"
   ]
  },
  {
   "cell_type": "code",
   "execution_count": 9,
   "id": "1df3b426-ee32-4ef6-927a-88557e00ede8",
   "metadata": {},
   "outputs": [
    {
     "name": "stdout",
     "output_type": "stream",
     "text": [
      "1\n",
      "4\n",
      "9\n",
      "16\n",
      "25\n",
      "36\n",
      "49\n",
      "64\n",
      "81\n"
     ]
    }
   ],
   "source": [
    "for t in thread1:\n",
    "    t.start()"
   ]
  },
  {
   "cell_type": "code",
   "execution_count": 11,
   "id": "8c95bfd0-92ef-460c-b038-e3d4533fc561",
   "metadata": {},
   "outputs": [
    {
     "name": "stdout",
     "output_type": "stream",
     "text": [
      "1\n",
      "8\n",
      "27\n",
      "64\n",
      "125\n",
      "216\n",
      "343\n",
      "512\n",
      "729\n"
     ]
    }
   ],
   "source": [
    "for t in thread2:\n",
    "    t.start()"
   ]
  },
  {
   "cell_type": "markdown",
   "id": "87194c43-ef4c-4ca0-997d-4442200bbf2e",
   "metadata": {},
   "source": [
    "Q5"
   ]
  },
  {
   "cell_type": "markdown",
   "id": "c726a57c-8b6e-4994-a7b4-0f102503c056",
   "metadata": {},
   "source": [
    "Common advantages of multithreading are:\n",
    "\n",
    "1.Enhanced performance by decreased development time\n",
    "\n",
    "2.Simplified and streamlined program coding\n",
    "\n",
    "3.Improvised GUI responsiveness\n",
    "\n",
    "4.Simultaneous and parallelized occurrence of tasks\n",
    "\n",
    "5.Better use of cache storage by utilization of resources\n",
    "\n",
    "6.Decreased cost of maintenance\n",
    "\n",
    "7.Better use of CPU resource\n"
   ]
  },
  {
   "cell_type": "markdown",
   "id": "5512ef58-8629-4868-aff8-861b3dbe893d",
   "metadata": {},
   "source": [
    "Common disadvantages of multithreading are:\n",
    "\n",
    "1.Complex debugging and testing processes\n",
    "\n",
    "2.Overhead switching of context\n",
    "\n",
    "3.Increased potential for deadlock occurrence\n",
    "\n",
    "4.Increased difficulty level in writing a program\n",
    "\n",
    "5.Unpredictable results\n",
    "\n"
   ]
  },
  {
   "cell_type": "markdown",
   "id": "f1aed180-f466-4525-b37d-cd9bc5286d8c",
   "metadata": {},
   "source": [
    "Q6\n"
   ]
  },
  {
   "cell_type": "markdown",
   "id": "ec0cbbd4-d222-447d-8979-e17156b3e315",
   "metadata": {},
   "source": [
    "When two processes are waiting for each other directly or indirectly, it is called deadlock.\n",
    "\n",
    "This usually occurs when two processes are waiting for shared resources acquired by others. For example, If thread T1 acquired resource R1 and it also needs resource R2 for it to accomplish its task. But the resource R2 is acquired by thread T2 which is waiting for resource R1(which is acquired by T1). Neither of them will be able to accomplish its task, as they keep waiting for the other resources they need.\n",
    "\n",
    "RACE CONDITION\n",
    "\n",
    "When two processes are competing with each other causing data corruption.\n",
    "For example, if two processes are trying to execute the  conditions simultaneously, they cause data corruption\n",
    "\n"
   ]
  },
  {
   "cell_type": "code",
   "execution_count": null,
   "id": "c5980523-8371-47dc-9ce6-0918ceca4bf3",
   "metadata": {},
   "outputs": [],
   "source": []
  }
 ],
 "metadata": {
  "kernelspec": {
   "display_name": "Python 3 (ipykernel)",
   "language": "python",
   "name": "python3"
  },
  "language_info": {
   "codemirror_mode": {
    "name": "ipython",
    "version": 3
   },
   "file_extension": ".py",
   "mimetype": "text/x-python",
   "name": "python",
   "nbconvert_exporter": "python",
   "pygments_lexer": "ipython3",
   "version": "3.10.8"
  }
 },
 "nbformat": 4,
 "nbformat_minor": 5
}
